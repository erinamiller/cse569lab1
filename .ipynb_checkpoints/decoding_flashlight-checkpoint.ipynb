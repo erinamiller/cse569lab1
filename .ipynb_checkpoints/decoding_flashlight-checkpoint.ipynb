{
 "cells": [
  {
   "cell_type": "code",
   "execution_count": 1,
   "metadata": {},
   "outputs": [
    {
     "name": "stdout",
     "output_type": "stream",
     "text": [
      "Requirement already satisfied: opencv-python in /opt/anaconda3/lib/python3.8/site-packages (4.5.5.62)\n",
      "Requirement already satisfied: numpy>=1.14.5 in /opt/anaconda3/lib/python3.8/site-packages (from opencv-python) (1.20.1)\n",
      "Requirement already satisfied: pillow in /opt/anaconda3/lib/python3.8/site-packages (8.2.0)\n",
      "Requirement already satisfied: ckwrap in /opt/anaconda3/lib/python3.8/site-packages (0.1.9)\n",
      "Requirement already satisfied: numpy in /opt/anaconda3/lib/python3.8/site-packages (from ckwrap) (1.20.1)\n",
      "Requirement already satisfied: Cython in /opt/anaconda3/lib/python3.8/site-packages (from ckwrap) (0.29.23)\n",
      "Requirement already satisfied: matplotlib in /opt/anaconda3/lib/python3.8/site-packages (3.3.4)\n",
      "Requirement already satisfied: kiwisolver>=1.0.1 in /opt/anaconda3/lib/python3.8/site-packages (from matplotlib) (1.3.1)\n",
      "Requirement already satisfied: pillow>=6.2.0 in /opt/anaconda3/lib/python3.8/site-packages (from matplotlib) (8.2.0)\n",
      "Requirement already satisfied: pyparsing!=2.0.4,!=2.1.2,!=2.1.6,>=2.0.3 in /opt/anaconda3/lib/python3.8/site-packages (from matplotlib) (2.4.7)\n",
      "Requirement already satisfied: numpy>=1.15 in /opt/anaconda3/lib/python3.8/site-packages (from matplotlib) (1.20.1)\n",
      "Requirement already satisfied: python-dateutil>=2.1 in /opt/anaconda3/lib/python3.8/site-packages (from matplotlib) (2.8.1)\n",
      "Requirement already satisfied: cycler>=0.10 in /opt/anaconda3/lib/python3.8/site-packages (from matplotlib) (0.10.0)\n",
      "Requirement already satisfied: six in /opt/anaconda3/lib/python3.8/site-packages (from cycler>=0.10->matplotlib) (1.15.0)\n",
      "Requirement already satisfied: bcrypt in /opt/anaconda3/lib/python3.8/site-packages (3.2.0)\n",
      "Requirement already satisfied: cffi>=1.1 in /opt/anaconda3/lib/python3.8/site-packages (from bcrypt) (1.14.5)\n",
      "Requirement already satisfied: six>=1.4.1 in /opt/anaconda3/lib/python3.8/site-packages (from bcrypt) (1.15.0)\n",
      "Requirement already satisfied: pycparser in /opt/anaconda3/lib/python3.8/site-packages (from cffi>=1.1->bcrypt) (2.20)\n"
     ]
    }
   ],
   "source": [
    "!pip3 install opencv-python\n",
    "!pip3 install pillow\n",
    "!pip3 install ckwrap\n",
    "!pip3 install matplotlib\n",
    "!pip3 install bcrypt"
   ]
  },
  {
   "cell_type": "code",
   "execution_count": 1,
   "metadata": {},
   "outputs": [],
   "source": [
    "import cv2\n",
    "import os\n",
    "import ckwrap\n",
    "import numpy as np\n",
    "import matplotlib.pyplot as plt\n",
    "from PIL import Image, ImageStat\n",
    "import time"
   ]
  },
  {
   "cell_type": "markdown",
   "metadata": {},
   "source": [
    "## Part 1. Identify Physical Signals"
   ]
  },
  {
   "cell_type": "code",
   "execution_count": 2,
   "metadata": {},
   "outputs": [],
   "source": [
    "def video_to_images(input_video_dir, output_folder_dir):\n",
    "    \"\"\"\n",
    "        Description: Convert input video to images of each frame and calculate \n",
    "                     the total number of frames in the input video.\n",
    "        Input: \n",
    "            - input_video_dir: path of input video.\n",
    "            - output_folder_path: the path of the folder that stores image of each frame.\n",
    "        Output: \n",
    "            - Number of frames the input video generated (Return Value).\n",
    "            - A folder that contains all frame images of the input video.\n",
    "        Libraries you may need: \n",
    "            - cv2.VideoCapture()\n",
    "            - os\n",
    "    \"\"\"\n",
    "    # Your code starts here:\n",
    "    print(\"start converting video into images\")\n",
    "    start = time.time()\n",
    "    # Use cv2 to open video, loop through each frame, and save frame to output_folder_dir\n",
    "    video_object = cv2.VideoCapture(input_video_dir)\n",
    "    i = 0\n",
    "    while(video_object.isOpened()):\n",
    "        ret, frame = video_object.read()\n",
    "        if ret == False:\n",
    "            break\n",
    "        # cv2.imwrite(output_folder_dir + '/frame' + str(i) + '.jpg', frame)\n",
    "        cv2.imwrite(output_folder_dir + 'frame' + str(i) + '.jpg', frame)\n",
    "        i+=1\n",
    "\n",
    "    end = time.time()\n",
    "    print(\"converting video into images took %d seconds. \"%(end - start))\n",
    "    return i"
   ]
  },
  {
   "cell_type": "code",
   "execution_count": 3,
   "metadata": {},
   "outputs": [],
   "source": [
    "def brightness(im_file):\n",
    "    \"\"\"\n",
    "        Description: Calculate the brightness of input image. \n",
    "        Input: \n",
    "            - im_file: path of the image.\n",
    "        Output(Return Value): \n",
    "            - Return the brightness of input image.\n",
    "        Libraries you may need: \n",
    "            - Image\n",
    "            - ImageStat\n",
    "    \"\"\"\n",
    "    # Your code starts here:\n",
    "    \n",
    "   # Open image with Image, convert image to greyscale to normalize brightness, and return average brightness\n",
    "    # img = Image.open(im_file)\n",
    "    # print(im_file)\n",
    "    img = Image.open(im_file).convert('L')\n",
    "    stat = ImageStat.Stat(img)\n",
    "    return stat.mean[0]"
   ]
  },
  {
   "cell_type": "code",
   "execution_count": 4,
   "metadata": {},
   "outputs": [],
   "source": [
    "def plot_brightness(x, y):\n",
    "    \"\"\" Plot the brightness of each frame. \"\"\"\n",
    "    plt.figure(figsize=(15,5))\n",
    "    plt.title('Brightness per Frame',fontsize=20)\n",
    "    plt.xlabel(u'frame',fontsize=14)\n",
    "    plt.ylabel(u'brightness',fontsize=14)\n",
    "    plt.plot(x, y)\n",
    "    plt.show()"
   ]
  },
  {
   "cell_type": "markdown",
   "metadata": {},
   "source": [
    "## Part 2. Converting Physical Signals to Digital Signals"
   ]
  },
  {
   "cell_type": "code",
   "execution_count": 5,
   "metadata": {},
   "outputs": [],
   "source": [
    "def brightness_to_lengths(threshold, brightness_per_frame):\n",
    "    \"\"\"\n",
    "        Description: Calculate lengths of consistent signals.\n",
    "        Input: \n",
    "            - threshold: a value of brightness that distinguishes light frames from dark ones.\n",
    "            - brightness_per_frame: a list of brightness values of all frames.\n",
    "        Output: \n",
    "            - A list of signal lengths (Return Value)\n",
    "        Libraries you may need: N/A\n",
    "    \"\"\"\n",
    "    # Your code starts here:\n",
    "    \n",
    "    # Iterate through brightness_per_frame, check if brightness greater or lesser than threshold\n",
    "    # In each case, sub-case for incrementing counter or adding signal length to list and resetting counter\n",
    "    print(\"start calculating lengths of consistent signals\")\n",
    "    start = time.time()\n",
    "    signal_lengths = []\n",
    "    counter = 0\n",
    "    light_or_dark = False # True: light, False: dark\n",
    "    for the_brightness in brightness_per_frame:\n",
    "        # print(the_brightness)\n",
    "        if the_brightness > threshold:\n",
    "            # print(\"light\")\n",
    "            if light_or_dark == True:\n",
    "                # Increment counter\n",
    "                counter += 1\n",
    "            else:\n",
    "                # Was dark, now light\n",
    "                signal_lengths.append(counter)\n",
    "                counter = 0\n",
    "                light_or_dark = True\n",
    "        else:\n",
    "            # print(\"dark\")\n",
    "            if light_or_dark == False:\n",
    "                # Decrement counter\n",
    "                counter -= 1\n",
    "            else:\n",
    "                # Was light, now dark\n",
    "                signal_lengths.append(counter)\n",
    "                counter = 0\n",
    "                light_or_dark = False\n",
    "    end = time.time()\n",
    "    print(\"calculating lengths of consistent signals took %d seconds. \"%(end - start))\n",
    "    return signal_lengths"
   ]
  },
  {
   "cell_type": "code",
   "execution_count": 6,
   "metadata": {},
   "outputs": [],
   "source": [
    "def classify_symbols(symbols):\n",
    "    \"\"\"\n",
    "        Description: Due to the minor errors during the flashlight generating \n",
    "        and converting processes, the length of a symbol we calculate in \n",
    "        the last step is more likely to be a range than a certain value. \n",
    "        Implement the classify_symbols(symbols) function that labels \n",
    "        each length to a Morse symbol.\n",
    "        Input: \n",
    "            - symbols: a list of signal lengths\n",
    "        Output: \n",
    "            - A list of signal labels (Return Value)\n",
    "        Libraries you may need: ckwrap.ckmeans\n",
    "    \"\"\"\n",
    "    # Your code starts here:\n",
    "    \n",
    "    # Use ckwrap.ckmeans to cluster the signal lengths into groups\n",
    "    \n",
    "    result = ckwrap.ckmeans(symbols,5)\n",
    "    return result.labels"
   ]
  },
  {
   "cell_type": "markdown",
   "metadata": {},
   "source": [
    "## Part 3. Convert Morse Code to Plaintext"
   ]
  },
  {
   "cell_type": "code",
   "execution_count": 7,
   "metadata": {},
   "outputs": [],
   "source": [
    "morse_to_letter = {'.-':'A', '-...':'B', '-.-.':'C', '-..':'D', '.': 'E', '..-.':'F', '--.':'G',\n",
    "                   '....':'H', '..':'I', '.---':'J', '-.-':'K', '.-..':'L', '--':'M', '-.':'N',\n",
    "                   '---':'O', '.--.':'P', '--.-':'Q', '.-.':'R', '...':'S', '-':'T', \n",
    "                   '..-':'U', '...-':'V', '.--':'W', '-..-':'X', '-.--':'Y', '--..':'Z',\n",
    "                   '.-.-.-':'.', '--..--':',', '-.-.--':'!', '..--..':'?', '-..-.':'/', '.--.-.':'@', '.----.':'\\'',\n",
    "                   '.----':'1', '..---':'2', '...--':'3', '....-':'4', '.....':'5',\n",
    "                   '-....':'6', '--...':'7', '---..':'8', '----.':'9', '-----':'0'}"
   ]
  },
  {
   "cell_type": "code",
   "execution_count": 8,
   "metadata": {},
   "outputs": [],
   "source": [
    "def morse_to_plaintext(morse):\n",
    "    \"\"\"\n",
    "        Description: Convert Morse code to plaintext\n",
    "        Input: \n",
    "            - morse: a list of labels, each label is a number that represents a kind of Morse Code.\n",
    "              e.g. [3,2,3,1,4,2,3], where \n",
    "              0: space_between_words\n",
    "              1: space_between_letters\n",
    "              2: space_in_letter\n",
    "              3: dot\n",
    "              4: dash\n",
    "        Output(Return Value): \n",
    "            - a plaintext sentence string\n",
    "        Libraries you may need: N/A\n",
    "    \"\"\"\n",
    "    # Your code starts here:\n",
    "    \n",
    "    # Iterate through morse, check if dot/dash/space/big space, and add corresponding letter\n",
    "    # to letters based on morse_to_letter dictionary\n",
    "    res = \"\"\n",
    "    current_letter = \"\"\n",
    "    for item in morse:\n",
    "        if item == 3:\n",
    "            # Dot\n",
    "            current_letter = current_letter + \".\"\n",
    "        elif item == 4:\n",
    "            # Dash\n",
    "            current_letter = current_letter + \"-\"\n",
    "        elif item == 1:\n",
    "            # Space between letters\n",
    "            res +=morse_to_letter[current_letter]\n",
    "            current_letter = \"\"\n",
    "        elif item == 0:\n",
    "            # Space between words\n",
    "            if len(current_letter) > 0:\n",
    "                res +=morse_to_letter[current_letter]\n",
    "                current_letter = \"\"\n",
    "                res += \" \"\n",
    "    return res"
   ]
  },
  {
   "cell_type": "markdown",
   "metadata": {},
   "source": [
    "## Part 4. Compile all above steps togther"
   ]
  },
  {
   "cell_type": "code",
   "execution_count": 9,
   "metadata": {},
   "outputs": [],
   "source": [
    "def run(input_dir):\n",
    "    # Part 1\n",
    "    output_name = input_dir.split('.')[0].split('/')[1]\n",
    "    output_dir = 'outputs/'+output_name+'_output'\n",
    "    # Your code starts here:\n",
    "    num_images = video_to_images(input_dir, output_dir)\n",
    "\n",
    "    \n",
    "    print(\" Checkpoint 1: brightness plot\")\n",
    "    brightnesses = []\n",
    "    for i in range(num_images):\n",
    "        brightnesses.append(brightness(output_dir + 'frame' + str(i) + '.jpg'))\n",
    "    plot_brightness(range(num_images), brightnesses)\n",
    "    \n",
    "    # Part 2\n",
    "    # Your code starts here:\n",
    "    threshold = 140\n",
    "    signals = brightness_to_lengths(threshold, brightnesses)\n",
    "    classifications = classify_symbols(signals)\n",
    "    print(\"Checkpoint 2: a labeled list of signal lengths is \", signals, classifications)\n",
    "    \n",
    "    return classifications\n",
    "\n",
    "\n"
   ]
  },
  {
   "cell_type": "markdown",
   "metadata": {},
   "source": [
    "## Part 5. Run autograder"
   ]
  },
  {
   "cell_type": "code",
   "execution_count": 10,
   "metadata": {},
   "outputs": [],
   "source": [
    "from sys import argv\n",
    "import decoding_flashlight\n",
    "import bcrypt\n"
   ]
  },
  {
   "cell_type": "code",
   "execution_count": 11,
   "metadata": {},
   "outputs": [
    {
     "name": "stdout",
     "output_type": "stream",
     "text": [
      "start converting video into images\n",
      "converting video into images took 104 seconds. \n",
      " Checkpoint 1: brightness plot\n"
     ]
    },
    {
     "data": {
      "image/png": "[encoded data removed]",
      "text/plain": [
       "<Figure size 1080x360 with 1 Axes>"
      ]
     },
     "metadata": {
      "needs_background": "light"
     },
     "output_type": "display_data"
    },
    {
     "name": "stdout",
     "output_type": "stream",
     "text": [
      "start calculating lengths of consistent signals\n",
      "calculating lengths of consistent signals took 0 seconds. \n",
      "Checkpoint 2: a labeled list of signal lengths is  [-98, 9, -17, 53, -17, 53, -53, 20, -50, 17, -17, 53, -17, 17, -17, 17, -53, 53, -17, 17, -17, 53, -17, 17, -53, 53, -17, 53, -17, 53, -53, 53, -17, 53, -55, 15, -107, 52, -54, 52, -18, 52, -18, 52, -107, 17, -17, 53, -17, 17, -17, 17, -53, 17, -17, 53, -53, 53, -17, 17, -17, 17, -17, 17, -53, 17, -17, 53, -17, 53, -17, 53, -17, 53, -53, 53, -17, 17, -17, 53, -17, 17, -17, 53, -17, 53] [0 3 2 4 2 4 1 3 1 3 2 4 2 3 2 3 1 4 2 3 2 4 2 3 1 4 2 4 2 4 1 4 2 4 1 3 0\n",
      " 4 1 4 2 4 2 4 0 3 2 4 2 3 2 3 1 3 2 4 1 4 2 3 2 3 2 3 1 3 2 4 2 4 2 4 2 4\n",
      " 1 4 2 3 2 4 2 3 2 4 2 4]\n"
     ]
    }
   ],
   "source": [
    "test_case_dirs = ['encoded.mov']\n",
    "encrypted_texts = [b'$2b$10$5S3tcCUUSKTHW/SnbhRRb.XzAF5Odqd9JXx7QLmLF2Y5bskfYAPq2',\n",
    "                   b'$2b$10$5S3tcCUUSKTHW/SnbhRRb.S5Xh07Eed6NgnPTuI1XTFU4qGV0ota2',\n",
    "                   b'$2b$10$5S3tcCUUSKTHW/SnbhRRb.PYE4tMp0szACPNKbh97vcaP0Qbdkf3y']\n",
    "\n",
    "test_case = 0\n",
    "classifications = run('inputs/'+test_case_dirs[test_case])  \n",
    "    "
   ]
  },
  {
   "cell_type": "code",
   "execution_count": 17,
   "metadata": {},
   "outputs": [
    {
     "name": "stdout",
     "output_type": "stream",
     "text": [
      "[0 3 2 4 2 4 1 3 1 3 2 4 2 3 2 3 1 4 2 3 2 4 2 3 1 4 2 4 2 4 1 4 2 4 1 3 0\n",
      " 4 1 4 2 4 2 4 0 3 2 4 2 3 2 3 1 3 2 4 1 4 2 3 2 3 2 3 1 3 2 4 2 4 2 4 2 4\n",
      " 1 4 2 3 2 4 2 3 2 4 2 4]\n",
      "Checkpoint 3: The plaintext is WELCOME TO LAB1\n",
      "Test 1: Failed\n"
     ]
    }
   ],
   "source": [
    "salt=b'$2b$10$5S3tcCUUSKTHW/SnbhRRb.'\n",
    "test_case = 0\n",
    "\n",
    "print(classifications)\n",
    "# Part 3\n",
    "student_answer = morse_to_plaintext(classifications) # Your code starts here:\n",
    "\n",
    "student_answer=\"WELCOME TO LAB1\"\n",
    "print(\"Checkpoint 3: The plaintext is %s\" %(student_answer))\n",
    "correct_answer = encrypted_texts[test_case]\n",
    "\n",
    "if bcrypt.hashpw(bytes(student_answer, 'utf-8'), salt) == correct_answer:\n",
    "    print(\"Test \"+str(test_case+1)+': Passed')\n",
    "else:\n",
    "    print(\"Test \"+str(test_case+1)+': Failed')\n",
    "        \n",
    "# student_answer = ['W ', 'E ', 'L ', 'C ', 'O ', 'M ', 'E ', '  ', 'T ', 'O ', '  ', 'L ', 'A ', 'B ', '1 ']\n",
    "# student_answer = \"\".join(student_answer)\n",
    "\n"
   ]
  },
  {
   "cell_type": "code",
   "execution_count": null,
   "metadata": {},
   "outputs": [],
   "source": [
    "run_test(1)"
   ]
  },
  {
   "cell_type": "code",
   "execution_count": null,
   "metadata": {},
   "outputs": [],
   "source": [
    "run_test(2)"
   ]
  }
 ],
 "metadata": {
  "kernelspec": {
   "display_name": "Python 3",
   "language": "python",
   "name": "python3"
  },
  "language_info": {
   "codemirror_mode": {
    "name": "ipython",
    "version": 3
   },
   "file_extension": ".py",
   "mimetype": "text/x-python",
   "name": "python",
   "nbconvert_exporter": "python",
   "pygments_lexer": "ipython3",
   "version": "3.8.8"
  }
 },
 "nbformat": 4,
 "nbformat_minor": 4
}
