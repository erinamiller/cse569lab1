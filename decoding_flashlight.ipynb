{
 "cells": [
  {
   "cell_type": "code",
   "execution_count": null,
   "metadata": {},
   "outputs": [],
   "source": [
    "!pip3 install opencv-python"
   ]
  },
  {
   "cell_type": "code",
   "execution_count": null,
   "metadata": {},
   "outputs": [],
   "source": [
    "!pip3 install pillow"
   ]
  },
  {
   "cell_type": "code",
   "execution_count": null,
   "metadata": {},
   "outputs": [],
   "source": [
    "!pip3 install matplotlib"
   ]
  },
  {
   "cell_type": "code",
   "execution_count": null,
   "metadata": {},
   "outputs": [],
   "source": [
    "!pip3 install ckwrap"
   ]
  },
  {
   "cell_type": "code",
   "execution_count": null,
   "metadata": {},
   "outputs": [],
   "source": [
    "!pip3 install bcrypt"
   ]
  },
  {
   "cell_type": "code",
   "execution_count": null,
   "metadata": {},
   "outputs": [],
   "source": [
    "import cv2\n",
    "import os\n",
    "import ckwrap\n",
    "import numpy as np\n",
    "import matplotlib.pyplot as plt\n",
    "from PIL import Image, ImageStat"
   ]
  },
  {
   "cell_type": "markdown",
   "metadata": {},
   "source": [
    "## Part 1. Identify Physical Signals"
   ]
  },
  {
   "cell_type": "code",
   "execution_count": null,
   "metadata": {},
   "outputs": [],
   "source": [
    "def video_to_images(input_video_dir, output_folder_dir):\n",
    "    \"\"\"\n",
    "        Description: Convert input video to images of each frame and calculate \n",
    "                     the total number of frames in the input video.\n",
    "        Input: \n",
    "            - input_video_dir: path of input video.\n",
    "            - output_folder_path: the path of the folder that stores image of each frame.\n",
    "        Output: \n",
    "            - Number of frames the input video generated (Return Value).\n",
    "            - A folder that contains all frame images of the input video.\n",
    "        Libraries you may need: \n",
    "            - cv2.VideoCapture()\n",
    "            - os\n",
    "    \"\"\"\n",
    "    # Your code starts here:"
   ]
  },
  {
   "cell_type": "code",
   "execution_count": null,
   "metadata": {},
   "outputs": [],
   "source": [
    "def brightness(im_file):\n",
    "    \"\"\"\n",
    "        Description: Calculate the brightness of input image. \n",
    "        Input: \n",
    "            - im_file: path of the image.\n",
    "        Output(Return Value): \n",
    "            - Return the brightness of input image.\n",
    "        Libraries you may need: \n",
    "            - Image\n",
    "            - ImageStat\n",
    "    \"\"\"\n",
    "    # Your code starts here:"
   ]
  },
  {
   "cell_type": "code",
   "execution_count": null,
   "metadata": {},
   "outputs": [],
   "source": [
    "def plot_brightness(x, y):\n",
    "    \"\"\" Plot the brightness of each frame. \"\"\"\n",
    "    plt.figure(figsize=(15,5))\n",
    "    plt.title('Brightness per Frame',fontsize=20)\n",
    "    plt.xlabel(u'frame',fontsize=14)\n",
    "    plt.ylabel(u'brightness',fontsize=14)\n",
    "    plt.plot(x, y)\n",
    "    plt.show()"
   ]
  },
  {
   "cell_type": "markdown",
   "metadata": {},
   "source": [
    "## Part 2. Converting Physical Signals to Digital Signals"
   ]
  },
  {
   "cell_type": "code",
   "execution_count": null,
   "metadata": {},
   "outputs": [],
   "source": [
    "def brightness_to_lengths(threshold, brightness_per_frame):\n",
    "    \"\"\"\n",
    "        Description: Calculate lengths of consistent signals.\n",
    "        Input: \n",
    "            - threshold: a value of brightness that distinguishes light frames from dark ones.\n",
    "            - brightness_per_frame: a list of brightness values of all frames.\n",
    "        Output: \n",
    "            - A list of signal lengths (Return Value)\n",
    "        Libraries you may need: N/A\n",
    "    \"\"\"\n",
    "    # Your code starts here:"
   ]
  },
  {
   "cell_type": "code",
   "execution_count": null,
   "metadata": {},
   "outputs": [],
   "source": [
    "def classify_symbols(symbols):\n",
    "    \"\"\"\n",
    "        Description: Due to the minor errors during the flashlight generating \n",
    "        and converting processes, the length of a symbol we calculate in \n",
    "        the last step is more likely to be a range than a certain value. \n",
    "        Implement the classify_symbols(symbols) function that labels \n",
    "        each length to a Morse symbol.\n",
    "        Input: \n",
    "            - symbols: a list of signal lengths\n",
    "        Output: \n",
    "            - A list of signal labels (Return Value)\n",
    "        Libraries you may need: ckwrap.ckmeans\n",
    "    \"\"\"\n",
    "    # Your code starts here:"
   ]
  },
  {
   "cell_type": "markdown",
   "metadata": {},
   "source": [
    "## Part 3. Convert Morse Code to Plaintext"
   ]
  },
  {
   "cell_type": "code",
   "execution_count": null,
   "metadata": {},
   "outputs": [],
   "source": [
    "morse_to_letter = {'.-':'A', '-...':'B', '-.-.':'C', '-..':'D', '.': 'E', '..-.':'F', '--.':'G',\n",
    "                   '....':'H', '..':'I', '.---':'J', '-.-':'K', '.-..':'L', '--':'M', '-.':'N',\n",
    "                   '---':'O', '.--.':'P', '--.-':'Q', '.-.':'R', '...':'S', '-':'T', \n",
    "                   '..-':'U', '...-':'V', '.--':'W', '-..-':'X', '-.--':'Y', '--..':'Z',\n",
    "                   '.-.-.-':'.', '--..--':',', '-.-.--':'!', '..--..':'?', '-..-.':'/', '.--.-.':'@', '.----.':'\\'',\n",
    "                   '.----':'1', '..---':'2', '...--':'3', '....-':'4', '.....':'5',\n",
    "                   '-....':'6', '--...':'7', '---..':'8', '----.':'9', '-----':'0'}"
   ]
  },
  {
   "cell_type": "code",
   "execution_count": null,
   "metadata": {},
   "outputs": [],
   "source": [
    "def morse_to_plaintext(morse):\n",
    "    \"\"\"\n",
    "        Description: Convert Morse code to plaintext\n",
    "        Input: \n",
    "            - morse: a list of labels, each label is a number that represents a kind of Morse Code.\n",
    "              e.g. [3,2,3,1,4,2,3], where \n",
    "              0: space_between_words\n",
    "              1: space_between_letters\n",
    "              2: space_in_letter\n",
    "              3: dot\n",
    "              4: dash\n",
    "        Output(Return Value): \n",
    "            - a plaintext sentence string\n",
    "        Libraries you may need: N/A\n",
    "    \"\"\"\n",
    "    # Your code starts here:"
   ]
  },
  {
   "cell_type": "markdown",
   "metadata": {},
   "source": [
    "## Part 4. Compile all above steps togther"
   ]
  },
  {
   "cell_type": "code",
   "execution_count": null,
   "metadata": {},
   "outputs": [],
   "source": [
    "def run(input_dir):\n",
    "    # Part 1\n",
    "    output_name = input_dir.split('.')[0].split('/')[1]\n",
    "    output_dir = 'outputs/'+output_name+'_output'\n",
    "    # Your code starts here:\n",
    "    print(\" Checkpoint 1: brightness plot\")\n",
    "    plot_brightness(range(num_of_frames), brightness_per_frame)\n",
    "    \n",
    "    # Part 2\n",
    "    # Your code starts here:\n",
    "    print(\"Checkpoint 2: a labeled list of signal lengths is \", )\n",
    "\n",
    "    # Part 3\n",
    "    plaintext = # Your code starts here:\n",
    "    print(\"Checkpoint 3: The plaintext is \", )\n",
    "    return plaintext"
   ]
  },
  {
   "cell_type": "markdown",
   "metadata": {},
   "source": [
    "## Part 5. Run autograder"
   ]
  },
  {
   "cell_type": "code",
   "execution_count": null,
   "metadata": {},
   "outputs": [],
   "source": [
    "test_case_dirs = ['test1.mov', 'test-2.mov', 'test-1.mov']\n",
    "encrypted_texts = [b'$2b$10$5S3tcCUUSKTHW/SnbhRRb.XzAF5Odqd9JXx7QLmLF2Y5bskfYAPq2',\n",
    "                   b'$2b$10$5S3tcCUUSKTHW/SnbhRRb.S5Xh07Eed6NgnPTuI1XTFU4qGV0ota2',\n",
    "                   b'$2b$10$5S3tcCUUSKTHW/SnbhRRb.PYE4tMp0szACPNKbh97vcaP0Qbdkf3y']\n",
    "\n",
    "def run_test(test_case, salt=b'$2b$10$5S3tcCUUSKTHW/SnbhRRb.'):\n",
    "    student_answer = decoding_flashlight.run('inputs/'+test_case_dirs[test_case])\n",
    "    correct_answer = encrypted_texts[test_case]\n",
    "    if bcrypt.hashpw(bytes(student_answer, 'utf-8'), salt) == correct_answer:\n",
    "        print(\"Test \"+str(test_case+1)+': Passed')\n",
    "    else:\n",
    "        print(\"Test \"+str(test_case+1)+': Failed')"
   ]
  },
  {
   "cell_type": "code",
   "execution_count": null,
   "metadata": {},
   "outputs": [],
   "source": [
    "run_test(0)"
   ]
  },
  {
   "cell_type": "code",
   "execution_count": null,
   "metadata": {},
   "outputs": [],
   "source": [
    "run_test(1)"
   ]
  },
  {
   "cell_type": "code",
   "execution_count": null,
   "metadata": {},
   "outputs": [],
   "source": [
    "run_test(2)"
   ]
  }
 ],
 "metadata": {
  "kernelspec": {
   "display_name": "Python 3",
   "language": "python",
   "name": "python3"
  },
  "language_info": {
   "codemirror_mode": {
    "name": "ipython",
    "version": 3
   },
   "file_extension": ".py",
   "mimetype": "text/x-python",
   "name": "python",
   "nbconvert_exporter": "python",
   "pygments_lexer": "ipython3",
   "version": "3.8.5"
  }
 },
 "nbformat": 4,
 "nbformat_minor": 4
}
