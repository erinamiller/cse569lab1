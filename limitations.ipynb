{
 "cells": [
  {
   "cell_type": "code",
   "execution_count": 17,
   "id": "6da9e7ca-000c-4d59-bf2a-d2776be95432",
   "metadata": {},
   "outputs": [
    {
     "data": {
      "image/png": "[encoded data removed]",
      "text/plain": [
       "<Figure size 432x288 with 1 Axes>"
      ]
     },
     "metadata": {
      "needs_background": "light"
     },
     "output_type": "display_data"
    },
    {
     "data": {
      "image/png": "[encoded data removed]",
      "text/plain": [
       "<Figure size 432x288 with 1 Axes>"
      ]
     },
     "metadata": {
      "needs_background": "light"
     },
     "output_type": "display_data"
    },
    {
     "name": "stdout",
     "output_type": "stream",
     "text": [
      "cluster 3 19\n",
      "cluster 4 5\n"
     ]
    }
   ],
   "source": [
    "import matplotlib.pyplot as plt\n",
    " \n",
    "\n",
    "signals1=[9, -17, 53, -17, 53, -53, 20, -50, 17, -17, 53, -17, 17, -17, 17, -53, 53, -17, 17, -17, 53, -17, 17, -53, 53, -17, 53, -17, 53, -53, 53, -17, 53, -55, 15, -107, 52, -54, 52, -18, 52, -18, 52, -107, 17, -17, 53, -17, 17, -17, 17, -53, 17, -17, 53, -53, 53, -17, 17, -17, 17, -17, 17, -53, 17, -17, 53, -17, 53, -17, 53, -17, 53, -53, 53, -17, 17, -17, 53, -17, 17, -17, 53, -17] \n",
    "clusters1=[3, 2, 4, 2, 4, 1, 3, 1, 3, 2, 4, 2, 3, 2, 3, 1, 4, 2, 3, 2, 4, 2, 3, 1, 4, 2, 4, 2, 4, 1, 4, 2, 4, 1, 3, 0, 4, 1, 4, 2, 4, 2, 4, 0, 3, 2, 4, 2, 3, 2, 3, 1, 3, 2, 4, 1, 4, 2, 3, 2, 3, 2, 3, 1, 3, 2, 4, 2, 4, 2, 4, 2, 4, 1, 4, 2, 3, 2, 4, 2, 3, 2, 4, 2]\n",
    "\n",
    "signals2=[7, -6, 8, -4, 6, -13, 7, -5, 18, -19, 9, -4, 8, -8, 5, -27, 9, -4, 8, -8, 5, -13, 8, -5, 10, -2, 11, -15, 7, -7, 7, -4, 6, -27, 9, -4, 8, -8, 5, -13, 7, -5, 11, -2, 11, -15, 7, -5] \n",
    "clusters2=[3, 2, 3, 2, 3, 1, 3, 2, 4, 1, 3, 2, 3, 2, 3, 0, 3, 2, 3, 2, 3, 1, 3, 2, 4, 2, 4, 1, 3, 2, 3, 2, 3, 0, 3, 2, 3, 2, 3, 1, 3, 2, 4, 2, 4, 1, 3, 2]\n",
    "plt.scatter(signals1,clusters1)\n",
    "plt.title(\"test1\")\n",
    "plt.yticks([0,1,2,3,4])\n",
    "plt.show()\n",
    "\n",
    "plt.scatter(signals2,clusters2)\n",
    "plt.title(\"test2\")\n",
    "plt.yticks([0,1,2,3,4])\n",
    "plt.show()\n",
    "\n",
    "# in the second case, candidate data points that are in cluster 3 and cluster 4, are very close to each other. \n",
    "# There is no clear seperation between clusters.\n",
    "\n",
    "import numpy as np\n",
    "import pandas as pd\n",
    "\n",
    "df = pd.DataFrame({'signal':signals2, 'cluster':clusters2})\n",
    "#df.plot('signal', 'cluster', kind='scatter')\n",
    "print('cluster 3',len(df[df.cluster==3]))\n",
    "print('cluster 4',len(df[df.cluster==4]))\n"
   ]
  },
  {
   "cell_type": "code",
   "execution_count": null,
   "id": "8729f036-d6c2-42dd-a17b-18d81b246092",
   "metadata": {},
   "outputs": [],
   "source": []
  }
 ],
 "metadata": {
  "kernelspec": {
   "display_name": "Python 3",
   "language": "python",
   "name": "python3"
  },
  "language_info": {
   "codemirror_mode": {
    "name": "ipython",
    "version": 3
   },
   "file_extension": ".py",
   "mimetype": "text/x-python",
   "name": "python",
   "nbconvert_exporter": "python",
   "pygments_lexer": "ipython3",
   "version": "3.8.8"
  }
 },
 "nbformat": 4,
 "nbformat_minor": 5
}
